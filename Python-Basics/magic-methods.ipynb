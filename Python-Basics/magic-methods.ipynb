{
 "cells": [
  {
   "cell_type": "markdown",
   "metadata": {},
   "source": [
    "### Magic Methods - Operator overloading"
   ]
  },
  {
   "cell_type": "code",
   "execution_count": 17,
   "metadata": {},
   "outputs": [],
   "source": [
    "### Class coordinates to set coordinates in both 3D and 2D space\n",
    "import math\n",
    "\n",
    "class Coordinates:\n",
    "    def __init__(self, x, y, z):\n",
    "        self.x = x\n",
    "        self.y = y\n",
    "        self.z = z if z is not None else 0\n",
    "\n",
    "    # Set the coordinates in 3D space\n",
    "    def set_coordinates(self, x, y, z):\n",
    "        self.x = x\n",
    "        self.y = y\n",
    "        self.z = z\n",
    "\n",
    "    # Set the coordinates in 2D space\n",
    "    def set_coordinates_2D(self, x, y):\n",
    "        self.x = x\n",
    "        self.y = y\n",
    "\n",
    "    # Get the coordinates in 3D space\n",
    "    def get_coordinates(self):\n",
    "        return (self.x, self.y, self.z)\n",
    "\n",
    "    # Get the coordinates in 2D space\n",
    "    def get_coordinates_2D(self):\n",
    "        return (self.x, self.y)\n",
    "\n",
    "    # Print the coordinates in 3D space\n",
    "    def print_coordinates(self):\n",
    "        print(\"x: \", self.x, \"y: \", self.y, \"z: \", self.z)\n",
    "\n",
    "    # Print the coordinates in 2D space\n",
    "    def print_coordinates_2D(self):\n",
    "        print(\"x: \", self.x, \"y: \", self.y)\n",
    "\n",
    "    # Return the coordinates in 3D space as a string\n",
    "    def __str__(self):\n",
    "        return \"x: \" + str(self.x) + \" y: \" + str(self.y) + \" z: \" + str(self.z)\n",
    "\n",
    "    # Return difference between coordinates\n",
    "    def __sub__(self, other):\n",
    "        return Coordinates(self.x - other.x, self.y - other.y, self.z - other.z)\n",
    "        \n",
    "    # Calculate the distance between two points in 3D space\n",
    "    def distance_3D(self, other):\n",
    "        return math.sqrt((self.x - other.x)**2 + (self.y - other.y)**2 + (self.z - other.z)**2)\n",
    "\n",
    "    # Calculate the distance between two points in 2D space\n",
    "    def distance_2D(self, other):\n",
    "        return math.sqrt((self.x - other.x)**2 + (self.y - other.y)**2)\n",
    "    "
   ]
  },
  {
   "cell_type": "markdown",
   "metadata": {},
   "source": [
    "Create 2D and 3D object and test the capabilities on the object"
   ]
  },
  {
   "cell_type": "code",
   "execution_count": 22,
   "metadata": {},
   "outputs": [
    {
     "name": "stdout",
     "output_type": "stream",
     "text": [
      "x: 1 y: 2 z: 3\n",
      "x: 14 y: 2 z: 60\n",
      "\n",
      "Difference between 3D points [{ x: 14 y: 2 z: 60  }, { x: 1 y: 2 z: 3 }] is :  x: 13 y: 0 z: 57\n",
      "\n",
      "Distance between 3D points:  58.463663928973865\n"
     ]
    }
   ],
   "source": [
    "# 3D object creation and operations\n",
    "\n",
    "threeD_1 = Coordinates(1, 2, 3)\n",
    "threeD_2 = Coordinates(14, 2, 60)\n",
    "\n",
    "print(threeD_1)\n",
    "print(threeD_2)\n",
    "\n",
    "# Difference between 2 coordinates is\n",
    "print(\"\\nDifference between 3D points [{\", threeD_2, \" }, {\", threeD_1, \"}] is : \", threeD_2 - threeD_1)\n",
    "\n",
    "# Distance between 2 3D coordinates is\n",
    "print(\"\\nDistance between 3D points: \", threeD_1.distance_3D(threeD_2))"
   ]
  },
  {
   "cell_type": "code",
   "execution_count": 23,
   "metadata": {},
   "outputs": [
    {
     "name": "stdout",
     "output_type": "stream",
     "text": [
      "x: 1 y: 2 z: 0\n",
      "x: 14 y: 2 z: 0\n",
      "\n",
      "Difference between 2D points [{ x: 14 y: 2 z: 0  }, { x: 1 y: 2 z: 0 }] is :  x: 13 y: 0 z: 0\n",
      "\n",
      "Distance between 2D points:  13.0\n"
     ]
    }
   ],
   "source": [
    "# 2D object creation and operations\n",
    "\n",
    "twoD_1 = Coordinates(1, 2, None)\n",
    "twoD_2 = Coordinates(14, 2, None)\n",
    "\n",
    "print(twoD_1)\n",
    "print(twoD_2)\n",
    "\n",
    "# Difference between 2 coordinates is\n",
    "print(\"\\nDifference between 2D points [{\", twoD_2, \" }, {\", twoD_1, \"}] is : \", twoD_2 - twoD_1)\n",
    "\n",
    "# Distance between 2 2D coordinates is\n",
    "print(\"\\nDistance between 2D points: \", twoD_1.distance_2D(twoD_2))"
   ]
  }
 ],
 "metadata": {
  "kernelspec": {
   "display_name": "Python 3",
   "language": "python",
   "name": "python3"
  },
  "language_info": {
   "codemirror_mode": {
    "name": "ipython",
    "version": 3
   },
   "file_extension": ".py",
   "mimetype": "text/x-python",
   "name": "python",
   "nbconvert_exporter": "python",
   "pygments_lexer": "ipython3",
   "version": "3.12.0"
  }
 },
 "nbformat": 4,
 "nbformat_minor": 2
}
