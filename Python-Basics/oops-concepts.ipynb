{
 "cells": [
  {
   "cell_type": "markdown",
   "metadata": {},
   "source": [
    "### OOPS Concepts - Inheritance"
   ]
  },
  {
   "cell_type": "code",
   "execution_count": 23,
   "metadata": {},
   "outputs": [],
   "source": [
    "from abc import ABC, abstractmethod\n",
    "\n",
    "class Vehicle(ABC):\n",
    "\n",
    "    def __init__(self, name, color, category, weight):\n",
    "        self._name = name\n",
    "        self._color = color\n",
    "        self._category = category\n",
    "        self.weight = weight\n",
    "        self._variant = None\n",
    "\n",
    "    @abstractmethod\n",
    "    def start(self):\n",
    "        pass\n",
    "\n",
    "    @abstractmethod\n",
    "    def stop(self):\n",
    "        pass\n",
    "\n",
    "    def display(self):\n",
    "        print(f\"Name: {self._name}\")\n",
    "        print(f\"Color: {self._color}\")\n",
    "        print(f\"Category: {self._category}\")\n",
    "        print(f\"Weight: {self.weight}\")\n",
    "        \n",
    "\n",
    "class Car(Vehicle):\n",
    "\n",
    "    def start(self):\n",
    "        print(f\"{self._name} Car is starting\")\n",
    "\n",
    "    def stop(self):\n",
    "        print(f\"{self._name} Car is stopping\")\n",
    "\n",
    "    def set_variant(self, variant):\n",
    "        self._variant = variant\n",
    "\n",
    "    def get_variant(self):\n",
    "        return self._variant\n",
    "\n",
    "    def display(self):\n",
    "        super().display()\n",
    "        print(f\"Variant: {self._variant}\")\n",
    "\n",
    "class Bike(Vehicle):\n",
    "\n",
    "    def start(self):\n",
    "        print(f\"{self._name} Bike is starting\")\n",
    "\n",
    "    def stop(self):\n",
    "        print(f\"{self._name} Bike is stopping\")\n",
    "\n",
    "    def set_variant(self, variant):\n",
    "        self._variant = variant\n",
    "\n",
    "    def get_variant(self):\n",
    "        return self._variant\n",
    "\n",
    "    def display(self): \n",
    "        super().display()\n",
    "        print(f\"Variant: {self._variant}\")\n",
    "\n",
    "\n",
    "\n"
   ]
  },
  {
   "cell_type": "markdown",
   "metadata": {},
   "source": [
    "Create Objects with values"
   ]
  },
  {
   "cell_type": "code",
   "execution_count": 27,
   "metadata": {},
   "outputs": [
    {
     "name": "stdout",
     "output_type": "stream",
     "text": [
      "Name: BMW\n",
      "Color: Black\n",
      "Category: SUV\n",
      "Weight: 1500\n",
      "Variant: None\n",
      "Name: Yamaha\n",
      "Color: Blue\n",
      "Category: Sports\n",
      "Weight: 200\n",
      "Variant: None\n"
     ]
    }
   ],
   "source": [
    "car = Car(\"BMW\", \"Black\", \"SUV\", 1500)\n",
    "bike = Bike(\"Yamaha\", \"Blue\", \"Sports\", 200)\n",
    "\n",
    "car.display()\n",
    "bike.display()"
   ]
  },
  {
   "cell_type": "markdown",
   "metadata": {},
   "source": [
    "Test the above implemented objects"
   ]
  },
  {
   "cell_type": "code",
   "execution_count": 12,
   "metadata": {},
   "outputs": [
    {
     "name": "stdout",
     "output_type": "stream",
     "text": [
      "BMW Car is starting\n",
      "BMW Car is stopping\n"
     ]
    }
   ],
   "source": [
    "car.start()\n",
    "car.stop()"
   ]
  },
  {
   "cell_type": "code",
   "execution_count": 13,
   "metadata": {},
   "outputs": [
    {
     "name": "stdout",
     "output_type": "stream",
     "text": [
      "Yamaha Bike is starting\n",
      "Yamaha Bike is stopping\n"
     ]
    }
   ],
   "source": [
    "bike.start()\n",
    "bike.stop()"
   ]
  },
  {
   "cell_type": "markdown",
   "metadata": {},
   "source": [
    "Use getters and setters"
   ]
  },
  {
   "cell_type": "code",
   "execution_count": 30,
   "metadata": {},
   "outputs": [
    {
     "name": "stdout",
     "output_type": "stream",
     "text": [
      "Name: BMW\n",
      "Color: Black\n",
      "Category: SUV\n",
      "Weight: 1500\n",
      "Variant: 540i\n"
     ]
    }
   ],
   "source": [
    "car.set_variant(\"540i\")\n",
    "car.get_variant()\n",
    "car.display()"
   ]
  },
  {
   "cell_type": "code",
   "execution_count": 32,
   "metadata": {},
   "outputs": [
    {
     "name": "stdout",
     "output_type": "stream",
     "text": [
      "Name: Yamaha\n",
      "Color: Blue\n",
      "Category: Sports\n",
      "Weight: 200\n",
      "Variant: R15\n"
     ]
    }
   ],
   "source": [
    "bike.set_variant(\"R15\")\n",
    "bike.get_variant()\n",
    "bike.display()"
   ]
  }
 ],
 "metadata": {
  "kernelspec": {
   "display_name": "Python 3",
   "language": "python",
   "name": "python3"
  },
  "language_info": {
   "codemirror_mode": {
    "name": "ipython",
    "version": 3
   },
   "file_extension": ".py",
   "mimetype": "text/x-python",
   "name": "python",
   "nbconvert_exporter": "python",
   "pygments_lexer": "ipython3",
   "version": "3.12.0"
  }
 },
 "nbformat": 4,
 "nbformat_minor": 2
}
