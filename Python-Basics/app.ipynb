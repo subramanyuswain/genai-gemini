{
 "cells": [
  {
   "cell_type": "code",
   "execution_count": 4,
   "metadata": {},
   "outputs": [
    {
     "name": "stdout",
     "output_type": "stream",
     "text": [
      "0\n"
     ]
    }
   ],
   "source": [
    "print(1-1)"
   ]
  },
  {
   "cell_type": "code",
   "execution_count": 12,
   "metadata": {},
   "outputs": [
    {
     "name": "stdout",
     "output_type": "stream",
     "text": [
      "32 <class 'str'>\n",
      "32 <class 'int'>\n"
     ]
    }
   ],
   "source": [
    "name=\"Subra\"\n",
    "Name=\"Subra\"\n",
    "age=32\n",
    "age_str=str(age)\n",
    "print(age_str, type(age_str))\n",
    "print(age, type(age))"
   ]
  },
  {
   "cell_type": "code",
   "execution_count": 20,
   "metadata": {},
   "outputs": [
    {
     "name": "stdout",
     "output_type": "stream",
     "text": [
      "34.0 <class 'float'>\n"
     ]
    }
   ],
   "source": [
    "height = input(\"Enter the height\")\n",
    "height = float(height)\n",
    "print(height, type(height))"
   ]
  },
  {
   "cell_type": "markdown",
   "metadata": {},
   "source": [
    "Conditional statements if, alse and elif"
   ]
  },
  {
   "cell_type": "code",
   "execution_count": 29,
   "metadata": {},
   "outputs": [
    {
     "name": "stdout",
     "output_type": "stream",
     "text": [
      "5.0 -feet, You are medium\n",
      "Thank you, Please enter the height again\n",
      "To stop the program, please enter '0'\n",
      "22.0 -feet, You are tall\n",
      "Thank you, Please enter the height again\n",
      "To stop the program, please enter '0'\n",
      "! Please enter a valid height, empty input is not allowed\n",
      "! Please enter a valid height, empty input is not allowed\n",
      "4.0 -feet, You are short\n",
      "Thank you, Please enter the height again\n",
      "To stop the program, please enter '0'\n",
      "PROGRAM STOPPED SUCCESSFULLY, Thank you for using the program\n"
     ]
    }
   ],
   "source": [
    "while(True):\n",
    "    user_input = input(\"Enter the height in feet, To stop the program, please enter '0'\")\n",
    "    if user_input == '':\n",
    "        print(\"! Please enter a valid height, empty input is not allowed\")\n",
    "        continue\n",
    "    height = float(user_input)\n",
    "    if(height == 0):\n",
    "        print(\"PROGRAM STOPPED SUCCESSFULLY, Thank you for using the program\")\n",
    "        break\n",
    "    if(height >= 6):\n",
    "        print(height, \"-feet, You are tall\")\n",
    "    elif(height < 6 and height >= 5):\n",
    "        print(height, \"-feet, You are medium\")\n",
    "    elif(height <= 0):\n",
    "        print(\"! Please enter a valid height, -ve height is not allowed\")\n",
    "    else:\n",
    "        print(height, \"-feet, You are short\")\n",
    "    print (\"Thank you, Please enter the height again\")\n",
    "    print(\"To stop the program, please enter '0'\")"
   ]
  },
  {
   "cell_type": "markdown",
   "metadata": {},
   "source": [
    "Loops in Python"
   ]
  },
  {
   "cell_type": "code",
   "execution_count": 38,
   "metadata": {},
   "outputs": [
    {
     "name": "stdout",
     "output_type": "stream",
     "text": [
      "S <class 'str'>\n",
      "u <class 'str'>\n",
      "b <class 'str'>\n",
      "r <class 'str'>\n",
      "a <class 'str'>\n",
      "m <class 'str'>\n",
      "a <class 'str'>\n",
      "n <class 'str'>\n",
      "y <class 'str'>\n",
      "u <class 'str'>\n",
      "S <class 'str'>\n",
      "w <class 'str'>\n",
      "a <class 'str'>\n",
      "i <class 'str'>\n",
      "n <class 'str'>\n",
      "9 <class 'int'>\n",
      "8 <class 'int'>\n",
      "6 <class 'int'>\n",
      "4 <class 'int'>\n",
      ". <class 'str'>\n",
      "1 <class 'int'>\n",
      "Total digits in the string :  5\n",
      "Total characters in the string :  16\n"
     ]
    }
   ],
   "source": [
    "name=\"Subramanyu Swain 986 4.1\"\n",
    "str_count, int_count=0, 0\n",
    "for i in name:\n",
    "    if i.isdigit():\n",
    "        print(int(i), type(int(i)))\n",
    "        int_count += 1\n",
    "    elif i.isspace():\n",
    "        continue\n",
    "    else:\n",
    "        print(i, type(i))\n",
    "        str_count += 1\n",
    "print(\"Total digits in the string : \", int_count)\n",
    "print(\"Total characters in the string : \", str_count)"
   ]
  },
  {
   "cell_type": "markdown",
   "metadata": {},
   "source": [
    "Looping constructs in python"
   ]
  },
  {
   "cell_type": "code",
   "execution_count": 39,
   "metadata": {},
   "outputs": [
    {
     "name": "stdout",
     "output_type": "stream",
     "text": [
      "1\n",
      "3\n",
      "5\n",
      "7\n",
      "9\n"
     ]
    }
   ],
   "source": [
    "start = 1\n",
    "end = 10\n",
    "step = 2\n",
    "for i in range(start, end, step):\n",
    "    print(i)"
   ]
  },
  {
   "cell_type": "code",
   "execution_count": 40,
   "metadata": {},
   "outputs": [
    {
     "name": "stdout",
     "output_type": "stream",
     "text": [
      "10\n",
      "8\n",
      "6\n",
      "4\n",
      "2\n"
     ]
    }
   ],
   "source": [
    "start = 10\n",
    "end = 0\n",
    "step = -2\n",
    "for i in range(start, end, step):\n",
    "    print(i)"
   ]
  },
  {
   "cell_type": "code",
   "execution_count": 49,
   "metadata": {},
   "outputs": [
    {
     "name": "stdout",
     "output_type": "stream",
     "text": [
      "T\n",
      "h\n",
      "o\n",
      "r\n",
      ",\n",
      "t\n",
      "h\n",
      "e\n",
      "g\n",
      "o\n",
      "d\n",
      "o\n",
      "f\n",
      "t\n",
      "h\n",
      "u\n",
      "n\n",
      "d\n",
      "e\n",
      "r\n",
      "Total characters in the string :  20\n"
     ]
    }
   ],
   "source": [
    "str = \"Thor, the god of thunder\"\n",
    "count = 0\n",
    "for i in str:\n",
    "    if i==\" \": continue\n",
    "    print(i)\n",
    "    count += 1\n",
    "print(\"Total characters in the string : \", count)"
   ]
  },
  {
   "cell_type": "markdown",
   "metadata": {},
   "source": [
    "While loop"
   ]
  },
  {
   "cell_type": "code",
   "execution_count": 46,
   "metadata": {},
   "outputs": [
    {
     "name": "stdout",
     "output_type": "stream",
     "text": [
      "20\n",
      "18\n",
      "16\n",
      "14\n",
      "12\n",
      "10\n",
      "8\n",
      "6\n",
      "4\n",
      "2\n",
      "Count reached 0, Exiting the loop\n"
     ]
    }
   ],
   "source": [
    "count = 20\n",
    "step = 2 \n",
    "while(count != 0 or count % 2 == 0):\n",
    "    if count == 0:\n",
    "        print(\"Count reached 0, Exiting the loop\")\n",
    "        break\n",
    "    print(count)\n",
    "    count -= step\n"
   ]
  },
  {
   "cell_type": "code",
   "execution_count": 53,
   "metadata": {},
   "outputs": [
    {
     "name": "stdout",
     "output_type": "stream",
     "text": [
      "Length of the string :  16\n",
      "j\n",
      "a\n",
      "c\n",
      "k\n",
      " \n",
      "t\n",
      "h\n",
      "e\n",
      " \n",
      "s\n",
      "p\n",
      "a\n",
      "r\n",
      "r\n",
      "o\n",
      "w\n"
     ]
    }
   ],
   "source": [
    "str = \"jack the sparrow\"\n",
    "length = len(str)\n",
    "print(\"Length of the string : \", length)\n",
    "count = 0\n",
    "while(length != count):\n",
    "    print(str[count])\n",
    "    count += 1"
   ]
  }
 ],
 "metadata": {
  "kernelspec": {
   "display_name": "Python 3",
   "language": "python",
   "name": "python3"
  },
  "language_info": {
   "codemirror_mode": {
    "name": "ipython",
    "version": 3
   },
   "file_extension": ".py",
   "mimetype": "text/x-python",
   "name": "python",
   "nbconvert_exporter": "python",
   "pygments_lexer": "ipython3",
   "version": "3.12.0"
  }
 },
 "nbformat": 4,
 "nbformat_minor": 2
}
